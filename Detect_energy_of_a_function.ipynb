{
  "nbformat": 4,
  "nbformat_minor": 0,
  "metadata": {
    "colab": {
      "provenance": [],
      "authorship_tag": "ABX9TyN7MpRgWUR7mIVjD2l5a0H2",
      "include_colab_link": true
    },
    "kernelspec": {
      "name": "python3",
      "display_name": "Python 3"
    },
    "language_info": {
      "name": "python"
    }
  },
  "cells": [
    {
      "cell_type": "markdown",
      "metadata": {
        "id": "view-in-github",
        "colab_type": "text"
      },
      "source": [
        "<a href=\"https://colab.research.google.com/github/msalvati1997/energy_meter/blob/main/Detect_energy_of_a_function.ipynb\" target=\"_parent\"><img src=\"https://colab.research.google.com/assets/colab-badge.svg\" alt=\"Open In Colab\"/></a>"
      ]
    },
    {
      "cell_type": "code",
      "execution_count": 82,
      "metadata": {
        "id": "9_ck0LJR9jaK"
      },
      "outputs": [],
      "source": [
        "import pandas as pd\n",
        "import matplotlib.pyplot as plt\n",
        "import datetime\n",
        "import numpy as np"
      ]
    },
    {
      "cell_type": "code",
      "source": [
        "dataset = pd.read_csv('https://raw.githubusercontent.com/msalvati1997/energy_meter/main/results.csv?token=GHSAT0AAAAAABYLICDCSLD5IX7ZXKEJEGPIY3M34KA', parse_dates=['time'])"
      ],
      "metadata": {
        "id": "0Cizs_Ng9twK"
      },
      "execution_count": 83,
      "outputs": []
    },
    {
      "cell_type": "code",
      "source": [
        "dataset"
      ],
      "metadata": {
        "colab": {
          "base_uri": "https://localhost:8080/",
          "height": 424
        },
        "id": "3RhQXSo__rJt",
        "outputId": "cf2532c8-a1a4-423a-d1e3-f350536564e9"
      },
      "execution_count": 84,
      "outputs": [
        {
          "output_type": "execute_result",
          "data": {
            "text/plain": [
              "      Unnamed: 0                             time     power\n",
              "0              0 2022-11-10 09:18:54.338000+00:00  0.291863\n",
              "1              1 2022-11-10 09:18:54.840000+00:00  2.400581\n",
              "2              2 2022-11-10 09:18:55.343000+00:00  6.506085\n",
              "3              3 2022-11-10 09:18:55.849000+00:00  3.969375\n",
              "4              4 2022-11-10 09:18:56.352000+00:00  1.896853\n",
              "...          ...                              ...       ...\n",
              "3005        3005 2022-11-10 09:44:21.312000+00:00  0.000666\n",
              "3006        3006 2022-11-10 09:44:21.816000+00:00  0.000733\n",
              "3007        3007 2022-11-10 09:44:22.319000+00:00  0.000934\n",
              "3008        3008 2022-11-10 09:44:22.823000+00:00  0.005040\n",
              "3009        3009 2022-11-10 09:44:23.326000+00:00  0.000940\n",
              "\n",
              "[3010 rows x 3 columns]"
            ],
            "text/html": [
              "\n",
              "  <div id=\"df-8de55539-0ad4-478a-84dd-da8732172b60\">\n",
              "    <div class=\"colab-df-container\">\n",
              "      <div>\n",
              "<style scoped>\n",
              "    .dataframe tbody tr th:only-of-type {\n",
              "        vertical-align: middle;\n",
              "    }\n",
              "\n",
              "    .dataframe tbody tr th {\n",
              "        vertical-align: top;\n",
              "    }\n",
              "\n",
              "    .dataframe thead th {\n",
              "        text-align: right;\n",
              "    }\n",
              "</style>\n",
              "<table border=\"1\" class=\"dataframe\">\n",
              "  <thead>\n",
              "    <tr style=\"text-align: right;\">\n",
              "      <th></th>\n",
              "      <th>Unnamed: 0</th>\n",
              "      <th>time</th>\n",
              "      <th>power</th>\n",
              "    </tr>\n",
              "  </thead>\n",
              "  <tbody>\n",
              "    <tr>\n",
              "      <th>0</th>\n",
              "      <td>0</td>\n",
              "      <td>2022-11-10 09:18:54.338000+00:00</td>\n",
              "      <td>0.291863</td>\n",
              "    </tr>\n",
              "    <tr>\n",
              "      <th>1</th>\n",
              "      <td>1</td>\n",
              "      <td>2022-11-10 09:18:54.840000+00:00</td>\n",
              "      <td>2.400581</td>\n",
              "    </tr>\n",
              "    <tr>\n",
              "      <th>2</th>\n",
              "      <td>2</td>\n",
              "      <td>2022-11-10 09:18:55.343000+00:00</td>\n",
              "      <td>6.506085</td>\n",
              "    </tr>\n",
              "    <tr>\n",
              "      <th>3</th>\n",
              "      <td>3</td>\n",
              "      <td>2022-11-10 09:18:55.849000+00:00</td>\n",
              "      <td>3.969375</td>\n",
              "    </tr>\n",
              "    <tr>\n",
              "      <th>4</th>\n",
              "      <td>4</td>\n",
              "      <td>2022-11-10 09:18:56.352000+00:00</td>\n",
              "      <td>1.896853</td>\n",
              "    </tr>\n",
              "    <tr>\n",
              "      <th>...</th>\n",
              "      <td>...</td>\n",
              "      <td>...</td>\n",
              "      <td>...</td>\n",
              "    </tr>\n",
              "    <tr>\n",
              "      <th>3005</th>\n",
              "      <td>3005</td>\n",
              "      <td>2022-11-10 09:44:21.312000+00:00</td>\n",
              "      <td>0.000666</td>\n",
              "    </tr>\n",
              "    <tr>\n",
              "      <th>3006</th>\n",
              "      <td>3006</td>\n",
              "      <td>2022-11-10 09:44:21.816000+00:00</td>\n",
              "      <td>0.000733</td>\n",
              "    </tr>\n",
              "    <tr>\n",
              "      <th>3007</th>\n",
              "      <td>3007</td>\n",
              "      <td>2022-11-10 09:44:22.319000+00:00</td>\n",
              "      <td>0.000934</td>\n",
              "    </tr>\n",
              "    <tr>\n",
              "      <th>3008</th>\n",
              "      <td>3008</td>\n",
              "      <td>2022-11-10 09:44:22.823000+00:00</td>\n",
              "      <td>0.005040</td>\n",
              "    </tr>\n",
              "    <tr>\n",
              "      <th>3009</th>\n",
              "      <td>3009</td>\n",
              "      <td>2022-11-10 09:44:23.326000+00:00</td>\n",
              "      <td>0.000940</td>\n",
              "    </tr>\n",
              "  </tbody>\n",
              "</table>\n",
              "<p>3010 rows × 3 columns</p>\n",
              "</div>\n",
              "      <button class=\"colab-df-convert\" onclick=\"convertToInteractive('df-8de55539-0ad4-478a-84dd-da8732172b60')\"\n",
              "              title=\"Convert this dataframe to an interactive table.\"\n",
              "              style=\"display:none;\">\n",
              "        \n",
              "  <svg xmlns=\"http://www.w3.org/2000/svg\" height=\"24px\"viewBox=\"0 0 24 24\"\n",
              "       width=\"24px\">\n",
              "    <path d=\"M0 0h24v24H0V0z\" fill=\"none\"/>\n",
              "    <path d=\"M18.56 5.44l.94 2.06.94-2.06 2.06-.94-2.06-.94-.94-2.06-.94 2.06-2.06.94zm-11 1L8.5 8.5l.94-2.06 2.06-.94-2.06-.94L8.5 2.5l-.94 2.06-2.06.94zm10 10l.94 2.06.94-2.06 2.06-.94-2.06-.94-.94-2.06-.94 2.06-2.06.94z\"/><path d=\"M17.41 7.96l-1.37-1.37c-.4-.4-.92-.59-1.43-.59-.52 0-1.04.2-1.43.59L10.3 9.45l-7.72 7.72c-.78.78-.78 2.05 0 2.83L4 21.41c.39.39.9.59 1.41.59.51 0 1.02-.2 1.41-.59l7.78-7.78 2.81-2.81c.8-.78.8-2.07 0-2.86zM5.41 20L4 18.59l7.72-7.72 1.47 1.35L5.41 20z\"/>\n",
              "  </svg>\n",
              "      </button>\n",
              "      \n",
              "  <style>\n",
              "    .colab-df-container {\n",
              "      display:flex;\n",
              "      flex-wrap:wrap;\n",
              "      gap: 12px;\n",
              "    }\n",
              "\n",
              "    .colab-df-convert {\n",
              "      background-color: #E8F0FE;\n",
              "      border: none;\n",
              "      border-radius: 50%;\n",
              "      cursor: pointer;\n",
              "      display: none;\n",
              "      fill: #1967D2;\n",
              "      height: 32px;\n",
              "      padding: 0 0 0 0;\n",
              "      width: 32px;\n",
              "    }\n",
              "\n",
              "    .colab-df-convert:hover {\n",
              "      background-color: #E2EBFA;\n",
              "      box-shadow: 0px 1px 2px rgba(60, 64, 67, 0.3), 0px 1px 3px 1px rgba(60, 64, 67, 0.15);\n",
              "      fill: #174EA6;\n",
              "    }\n",
              "\n",
              "    [theme=dark] .colab-df-convert {\n",
              "      background-color: #3B4455;\n",
              "      fill: #D2E3FC;\n",
              "    }\n",
              "\n",
              "    [theme=dark] .colab-df-convert:hover {\n",
              "      background-color: #434B5C;\n",
              "      box-shadow: 0px 1px 3px 1px rgba(0, 0, 0, 0.15);\n",
              "      filter: drop-shadow(0px 1px 2px rgba(0, 0, 0, 0.3));\n",
              "      fill: #FFFFFF;\n",
              "    }\n",
              "  </style>\n",
              "\n",
              "      <script>\n",
              "        const buttonEl =\n",
              "          document.querySelector('#df-8de55539-0ad4-478a-84dd-da8732172b60 button.colab-df-convert');\n",
              "        buttonEl.style.display =\n",
              "          google.colab.kernel.accessAllowed ? 'block' : 'none';\n",
              "\n",
              "        async function convertToInteractive(key) {\n",
              "          const element = document.querySelector('#df-8de55539-0ad4-478a-84dd-da8732172b60');\n",
              "          const dataTable =\n",
              "            await google.colab.kernel.invokeFunction('convertToInteractive',\n",
              "                                                     [key], {});\n",
              "          if (!dataTable) return;\n",
              "\n",
              "          const docLinkHtml = 'Like what you see? Visit the ' +\n",
              "            '<a target=\"_blank\" href=https://colab.research.google.com/notebooks/data_table.ipynb>data table notebook</a>'\n",
              "            + ' to learn more about interactive tables.';\n",
              "          element.innerHTML = '';\n",
              "          dataTable['output_type'] = 'display_data';\n",
              "          await google.colab.output.renderOutput(dataTable, element);\n",
              "          const docLink = document.createElement('div');\n",
              "          docLink.innerHTML = docLinkHtml;\n",
              "          element.appendChild(docLink);\n",
              "        }\n",
              "      </script>\n",
              "    </div>\n",
              "  </div>\n",
              "  "
            ]
          },
          "metadata": {},
          "execution_count": 84
        }
      ]
    },
    {
      "cell_type": "code",
      "source": [
        "dataset = dataset.sort_values(by=['time']).reset_index(drop=True).to_numpy()  # Sort and convert to numpy array"
      ],
      "metadata": {
        "id": "cLbQo3Oc_ttL"
      },
      "execution_count": 85,
      "outputs": []
    },
    {
      "cell_type": "code",
      "source": [
        "dataset"
      ],
      "metadata": {
        "colab": {
          "base_uri": "https://localhost:8080/"
        },
        "id": "-bPs2W95_yxd",
        "outputId": "d5c2855e-1881-41ff-e280-7585d4d88968"
      },
      "execution_count": 86,
      "outputs": [
        {
          "output_type": "execute_result",
          "data": {
            "text/plain": [
              "array([[0, Timestamp('2022-11-10 09:18:54.338000+0000', tz='UTC'),\n",
              "        0.2918625369115011],\n",
              "       [1, Timestamp('2022-11-10 09:18:54.840000+0000', tz='UTC'),\n",
              "        2.4005811650648887],\n",
              "       [2, Timestamp('2022-11-10 09:18:55.343000+0000', tz='UTC'),\n",
              "        6.506085005904202],\n",
              "       ...,\n",
              "       [3007, Timestamp('2022-11-10 09:44:22.319000+0000', tz='UTC'),\n",
              "        0.0009337237759461],\n",
              "       [3008, Timestamp('2022-11-10 09:44:22.823000+0000', tz='UTC'),\n",
              "        0.0050397871040655],\n",
              "       [3009, Timestamp('2022-11-10 09:44:23.326000+0000', tz='UTC'),\n",
              "        0.0009401026747766]], dtype=object)"
            ]
          },
          "metadata": {},
          "execution_count": 86
        }
      ]
    },
    {
      "cell_type": "code",
      "source": [
        "# Split into 2 arrays\n",
        "values = [float(i[2]) for i in dataset]  # Flow values, in float\n",
        "values = np.array(values)\n",
        "\n",
        "dates = [i[1].to_pydatetime() for i in dataset]\n",
        "dates = np.array(dates)"
      ],
      "metadata": {
        "id": "_dA0Ns6Q_5t-"
      },
      "execution_count": 87,
      "outputs": []
    },
    {
      "cell_type": "code",
      "source": [
        "flow = np.diff(values).tolist()\n",
        "time = np.diff(dates).tolist()"
      ],
      "metadata": {
        "id": "uj5ojqH6C1qo"
      },
      "execution_count": 88,
      "outputs": []
    },
    {
      "cell_type": "code",
      "source": [
        "time= [float(i.total_seconds()) for i in time]  # Flow values, in float"
      ],
      "metadata": {
        "id": "v6DcvZ2pE2nS"
      },
      "execution_count": 89,
      "outputs": []
    },
    {
      "cell_type": "code",
      "source": [
        "slopes = np.divide(flow, time) # (flow[i+1] - flow[i]) / (time[i+1] - time[i])\n",
        "slopes = np.insert(slopes, 0, 0, axis=0) # Since we \"lose\" the first index, this one is 0, just for alignments"
      ],
      "metadata": {
        "id": "DQVg_banDBPv"
      },
      "execution_count": 90,
      "outputs": []
    },
    {
      "cell_type": "code",
      "source": [
        "# ROLLING WINDOW\n",
        "size = len(dataset)\n",
        "rolling_window = []\n",
        "rolling_window_indexes = []\n",
        "RW = []\n",
        "RWi = []\n",
        "window_size = 240  # Seconds\n",
        "\n",
        "\n",
        "# create the rollings windows\n",
        "for line in range(size):\n",
        "    limit_stamp = dates[line] + datetime.timedelta(seconds=window_size)\n",
        "    for subline in range(line, size, 1):\n",
        "        if dates[subline] <= limit_stamp:\n",
        "\n",
        "            rolling_window.append(slopes[subline])  # Values of the slopes\n",
        "            rolling_window_indexes.append(subline)  # Indexes of the respective values\n",
        "\n",
        "        else:\n",
        "\n",
        "            RW.append(rolling_window)\n",
        "            if line != size: # To prevent clearing the last rolling window\n",
        "                rolling_window = []\n",
        "\n",
        "            RWi.append(rolling_window_indexes)\n",
        "            if line != size:\n",
        "                rolling_window_indexes = []\n",
        "\n",
        "            break\n",
        "else:\n",
        "    # To get the last rolling window since it breaks before append\n",
        "    RW.append(rolling_window)\n",
        "    RWi.append(rolling_window_indexes)"
      ],
      "metadata": {
        "id": "Z1OFJpejJaXx"
      },
      "execution_count": 91,
      "outputs": []
    },
    {
      "cell_type": "code",
      "source": [
        "t = 0.13 # Threshold\n",
        "peaks = []\n",
        "  \n",
        "for index, rollWin in enumerate(RW):\n",
        "    if rollWin[0] > t: # If the first value is greater of threshold\n",
        "        top = rollWin[0] # Sets as a possible peak\n",
        "        bottom = np.min(rollWin) # Finds the minimum of the peak\n",
        "\n",
        "        if bottom < -t: # If less than the negative threshold\n",
        "            bottomIndex = int(np.argmin(rollWin)) # Find it's index\n",
        "\n",
        "            for peak in range(0, bottomIndex, 1): # Appends all points between the first index of the rolling window until the bottomIndex\n",
        "                peaks.append(RWi[index][peak]) \n"
      ],
      "metadata": {
        "id": "eCAEolLaJn-f"
      },
      "execution_count": 113,
      "outputs": []
    },
    {
      "cell_type": "code",
      "source": [
        "for i in peaks:\n",
        "  print(dates[i], values[i])"
      ],
      "metadata": {
        "colab": {
          "base_uri": "https://localhost:8080/"
        },
        "id": "cR6kUwg4PEMo",
        "outputId": "81a9375b-6651-4f6b-c9cf-6e483a3a0cf0"
      },
      "execution_count": 114,
      "outputs": [
        {
          "output_type": "stream",
          "name": "stdout",
          "text": [
            "2022-11-10 09:18:54.840000+00:00 2.4005811650648887\n",
            "2022-11-10 09:18:55.343000+00:00 6.506085005904202\n",
            "2022-11-10 09:18:55.343000+00:00 6.506085005904202\n"
          ]
        }
      ]
    },
    {
      "cell_type": "code",
      "source": [
        "from matplotlib.dates import DateFormatter\n",
        "\n",
        "date_form = DateFormatter(\"%H:%M:%S\")  # Xlabel for the plot_values\n",
        "\n",
        "def plot_values(dates=None, values=None, dates_indexes=None, values_indexes=None):\n",
        "    \"\"\"\n",
        "    This function is to plot the water flow accordingly to the timestamps of measuring\n",
        "    :param dates: array-like of pydatetimes\n",
        "    :param values: array-like of floats\n",
        "    :param dates_indexes: peak filtered dates\n",
        "    :param values_indexes: peak filtered values\n",
        "    :return:\n",
        "    \"\"\"\n",
        "\n",
        "    global dataset\n",
        "\n",
        "    plt.figure(figsize=(45, 10))\n",
        "\n",
        "    plt.plot(dates, values, 'c', label=\"Power\")  # Plotting of all values\n",
        "    plt.plot(dates_indexes, values_indexes, \"xr\", label=\"peaks\")  # Plotting of all peaks\n",
        "\n",
        "    plt.xlabel(\"Timestamp of measure\")\n",
        "    plt.ylabel(\"Power\")\n",
        "    plt.legend()\n",
        "    plt.title(\"Power  over time\")\n",
        "    plt.show()\n",
        "\n",
        "# PLOTTING\n",
        "plot_values(dates, values, dates[peaks], values[peaks]) # The real dataset and the peaks"
      ],
      "metadata": {
        "colab": {
          "base_uri": "https://localhost:8080/",
          "height": 429
        },
        "id": "KotyXGCXJ43b",
        "outputId": "e1f4af31-036e-464f-d2bc-843431342263"
      },
      "execution_count": 115,
      "outputs": [
        {
          "output_type": "display_data",
          "data": {
            "text/plain": [
              "<Figure size 3240x720 with 1 Axes>"
            ],
            "image/png": "[encoded data removed]"
          },
          "metadata": {
            "needs_background": "light"
          }
        }
      ]
    },
    {
      "cell_type": "code",
      "source": [
        "def plot_slopes():\n",
        "    \"\"\"\n",
        "        This function is to plot the slope that the water flow creates\n",
        "    \"\"\"\n",
        "    plt.figure(figsize=(30, 10))\n",
        "\n",
        "    plt.plot(slopes, label=\"slopes\")\n",
        "    plt.hlines(t, 0, len(values), linestyles=\"dashed\", label=\"Threshold\")\n",
        "    plt.hlines(-t, 0, len(values), linestyles=\"dashed\")\n",
        "    plt.plot(peaks, slopes[peaks], \"^r\", label=\"Detected peaks\")\n",
        "\n",
        "    plt.legend()\n",
        "    plt.title(\"The slopes of the flow measures\")\n",
        "    plt.show()\n",
        "\n",
        "plot_slopes() # The slopes and the peaks\n"
      ],
      "metadata": {
        "colab": {
          "base_uri": "https://localhost:8080/",
          "height": 607
        },
        "id": "D3ijKdf7NWxM",
        "outputId": "8c7dd949-d788-47a8-8b5b-04edb9cd419a"
      },
      "execution_count": 116,
      "outputs": [
        {
          "output_type": "display_data",
          "data": {
            "text/plain": [
              "<Figure size 2160x720 with 1 Axes>"
            ],
            "image/png": "[encoded data removed]"
          },
          "metadata": {
            "needs_background": "light"
          }
        }
      ]
    }
  ]
}