{
  "nbformat": 4,
  "nbformat_minor": 0,
  "metadata": {
    "colab": {
      "provenance": [],
      "authorship_tag": "ABX9TyO2UozS+xga5bRwP5txPKu3",
      "include_colab_link": true
    },
    "kernelspec": {
      "name": "python3",
      "display_name": "Python 3"
    },
    "language_info": {
      "name": "python"
    }
  },
  "cells": [
    {
      "cell_type": "markdown",
      "metadata": {
        "id": "view-in-github",
        "colab_type": "text"
      },
      "source": [
        "<a href=\"https://colab.research.google.com/github/msalvati1997/energy_meter/blob/main/Detect_energy_of_a_function.ipynb\" target=\"_parent\"><img src=\"https://colab.research.google.com/assets/colab-badge.svg\" alt=\"Open In Colab\"/></a>"
      ]
    },
    {
      "cell_type": "code",
      "execution_count": 1,
      "metadata": {
        "id": "9_ck0LJR9jaK"
      },
      "outputs": [],
      "source": [
        "import pandas as pd\n",
        "import matplotlib.pyplot as plt\n",
        "import datetime\n",
        "import numpy as np"
      ]
    },
    {
      "cell_type": "code",
      "source": [
        "dataset = pd.read_csv('https://raw.githubusercontent.com/msalvati1997/energy_meter/main/case_study/results.csv?token=GHSAT0AAAAAABYLICDDZ5VE4EQUQT7M4AT6Y3M2YLQ', parse_dates=['time'])"
      ],
      "metadata": {
        "id": "0Cizs_Ng9twK"
      },
      "execution_count": 2,
      "outputs": []
    },
    {
      "cell_type": "code",
      "source": [
        "dataset"
      ],
      "metadata": {
        "colab": {
          "base_uri": "https://localhost:8080/",
          "height": 424
        },
        "id": "3RhQXSo__rJt",
        "outputId": "ab51067a-19fa-4c95-9b64-17cc7cb1955a"
      },
      "execution_count": 3,
      "outputs": [
        {
          "output_type": "execute_result",
          "data": {
            "text/plain": [
              "      Unnamed: 0                             time     power\n",
              "0              0 2022-11-10 08:42:48.677000+00:00  3.744788\n",
              "1              1 2022-11-10 08:42:49.180000+00:00  7.637335\n",
              "2              2 2022-11-10 08:42:49.684000+00:00  0.032518\n",
              "3              3 2022-11-10 08:42:50.187000+00:00  0.001116\n",
              "4              4 2022-11-10 08:42:50.692000+00:00  0.000923\n",
              "...          ...                              ...       ...\n",
              "2896        2896 2022-11-10 09:07:21.052000+00:00  0.000895\n",
              "2897        2897 2022-11-10 09:07:21.561000+00:00  0.001022\n",
              "2898        2898 2022-11-10 09:07:22.063000+00:00  0.000957\n",
              "2899        2899 2022-11-10 09:07:22.566000+00:00  0.001170\n",
              "2900        2900 2022-11-10 09:07:23.070000+00:00  0.000886\n",
              "\n",
              "[2901 rows x 3 columns]"
            ],
            "text/html": [
              "\n",
              "  <div id=\"df-04d9bf26-e5ae-4607-bfe3-7ca3b68540ac\">\n",
              "    <div class=\"colab-df-container\">\n",
              "      <div>\n",
              "<style scoped>\n",
              "    .dataframe tbody tr th:only-of-type {\n",
              "        vertical-align: middle;\n",
              "    }\n",
              "\n",
              "    .dataframe tbody tr th {\n",
              "        vertical-align: top;\n",
              "    }\n",
              "\n",
              "    .dataframe thead th {\n",
              "        text-align: right;\n",
              "    }\n",
              "</style>\n",
              "<table border=\"1\" class=\"dataframe\">\n",
              "  <thead>\n",
              "    <tr style=\"text-align: right;\">\n",
              "      <th></th>\n",
              "      <th>Unnamed: 0</th>\n",
              "      <th>time</th>\n",
              "      <th>power</th>\n",
              "    </tr>\n",
              "  </thead>\n",
              "  <tbody>\n",
              "    <tr>\n",
              "      <th>0</th>\n",
              "      <td>0</td>\n",
              "      <td>2022-11-10 08:42:48.677000+00:00</td>\n",
              "      <td>3.744788</td>\n",
              "    </tr>\n",
              "    <tr>\n",
              "      <th>1</th>\n",
              "      <td>1</td>\n",
              "      <td>2022-11-10 08:42:49.180000+00:00</td>\n",
              "      <td>7.637335</td>\n",
              "    </tr>\n",
              "    <tr>\n",
              "      <th>2</th>\n",
              "      <td>2</td>\n",
              "      <td>2022-11-10 08:42:49.684000+00:00</td>\n",
              "      <td>0.032518</td>\n",
              "    </tr>\n",
              "    <tr>\n",
              "      <th>3</th>\n",
              "      <td>3</td>\n",
              "      <td>2022-11-10 08:42:50.187000+00:00</td>\n",
              "      <td>0.001116</td>\n",
              "    </tr>\n",
              "    <tr>\n",
              "      <th>4</th>\n",
              "      <td>4</td>\n",
              "      <td>2022-11-10 08:42:50.692000+00:00</td>\n",
              "      <td>0.000923</td>\n",
              "    </tr>\n",
              "    <tr>\n",
              "      <th>...</th>\n",
              "      <td>...</td>\n",
              "      <td>...</td>\n",
              "      <td>...</td>\n",
              "    </tr>\n",
              "    <tr>\n",
              "      <th>2896</th>\n",
              "      <td>2896</td>\n",
              "      <td>2022-11-10 09:07:21.052000+00:00</td>\n",
              "      <td>0.000895</td>\n",
              "    </tr>\n",
              "    <tr>\n",
              "      <th>2897</th>\n",
              "      <td>2897</td>\n",
              "      <td>2022-11-10 09:07:21.561000+00:00</td>\n",
              "      <td>0.001022</td>\n",
              "    </tr>\n",
              "    <tr>\n",
              "      <th>2898</th>\n",
              "      <td>2898</td>\n",
              "      <td>2022-11-10 09:07:22.063000+00:00</td>\n",
              "      <td>0.000957</td>\n",
              "    </tr>\n",
              "    <tr>\n",
              "      <th>2899</th>\n",
              "      <td>2899</td>\n",
              "      <td>2022-11-10 09:07:22.566000+00:00</td>\n",
              "      <td>0.001170</td>\n",
              "    </tr>\n",
              "    <tr>\n",
              "      <th>2900</th>\n",
              "      <td>2900</td>\n",
              "      <td>2022-11-10 09:07:23.070000+00:00</td>\n",
              "      <td>0.000886</td>\n",
              "    </tr>\n",
              "  </tbody>\n",
              "</table>\n",
              "<p>2901 rows × 3 columns</p>\n",
              "</div>\n",
              "      <button class=\"colab-df-convert\" onclick=\"convertToInteractive('df-04d9bf26-e5ae-4607-bfe3-7ca3b68540ac')\"\n",
              "              title=\"Convert this dataframe to an interactive table.\"\n",
              "              style=\"display:none;\">\n",
              "        \n",
              "  <svg xmlns=\"http://www.w3.org/2000/svg\" height=\"24px\"viewBox=\"0 0 24 24\"\n",
              "       width=\"24px\">\n",
              "    <path d=\"M0 0h24v24H0V0z\" fill=\"none\"/>\n",
              "    <path d=\"M18.56 5.44l.94 2.06.94-2.06 2.06-.94-2.06-.94-.94-2.06-.94 2.06-2.06.94zm-11 1L8.5 8.5l.94-2.06 2.06-.94-2.06-.94L8.5 2.5l-.94 2.06-2.06.94zm10 10l.94 2.06.94-2.06 2.06-.94-2.06-.94-.94-2.06-.94 2.06-2.06.94z\"/><path d=\"M17.41 7.96l-1.37-1.37c-.4-.4-.92-.59-1.43-.59-.52 0-1.04.2-1.43.59L10.3 9.45l-7.72 7.72c-.78.78-.78 2.05 0 2.83L4 21.41c.39.39.9.59 1.41.59.51 0 1.02-.2 1.41-.59l7.78-7.78 2.81-2.81c.8-.78.8-2.07 0-2.86zM5.41 20L4 18.59l7.72-7.72 1.47 1.35L5.41 20z\"/>\n",
              "  </svg>\n",
              "      </button>\n",
              "      \n",
              "  <style>\n",
              "    .colab-df-container {\n",
              "      display:flex;\n",
              "      flex-wrap:wrap;\n",
              "      gap: 12px;\n",
              "    }\n",
              "\n",
              "    .colab-df-convert {\n",
              "      background-color: #E8F0FE;\n",
              "      border: none;\n",
              "      border-radius: 50%;\n",
              "      cursor: pointer;\n",
              "      display: none;\n",
              "      fill: #1967D2;\n",
              "      height: 32px;\n",
              "      padding: 0 0 0 0;\n",
              "      width: 32px;\n",
              "    }\n",
              "\n",
              "    .colab-df-convert:hover {\n",
              "      background-color: #E2EBFA;\n",
              "      box-shadow: 0px 1px 2px rgba(60, 64, 67, 0.3), 0px 1px 3px 1px rgba(60, 64, 67, 0.15);\n",
              "      fill: #174EA6;\n",
              "    }\n",
              "\n",
              "    [theme=dark] .colab-df-convert {\n",
              "      background-color: #3B4455;\n",
              "      fill: #D2E3FC;\n",
              "    }\n",
              "\n",
              "    [theme=dark] .colab-df-convert:hover {\n",
              "      background-color: #434B5C;\n",
              "      box-shadow: 0px 1px 3px 1px rgba(0, 0, 0, 0.15);\n",
              "      filter: drop-shadow(0px 1px 2px rgba(0, 0, 0, 0.3));\n",
              "      fill: #FFFFFF;\n",
              "    }\n",
              "  </style>\n",
              "\n",
              "      <script>\n",
              "        const buttonEl =\n",
              "          document.querySelector('#df-04d9bf26-e5ae-4607-bfe3-7ca3b68540ac button.colab-df-convert');\n",
              "        buttonEl.style.display =\n",
              "          google.colab.kernel.accessAllowed ? 'block' : 'none';\n",
              "\n",
              "        async function convertToInteractive(key) {\n",
              "          const element = document.querySelector('#df-04d9bf26-e5ae-4607-bfe3-7ca3b68540ac');\n",
              "          const dataTable =\n",
              "            await google.colab.kernel.invokeFunction('convertToInteractive',\n",
              "                                                     [key], {});\n",
              "          if (!dataTable) return;\n",
              "\n",
              "          const docLinkHtml = 'Like what you see? Visit the ' +\n",
              "            '<a target=\"_blank\" href=https://colab.research.google.com/notebooks/data_table.ipynb>data table notebook</a>'\n",
              "            + ' to learn more about interactive tables.';\n",
              "          element.innerHTML = '';\n",
              "          dataTable['output_type'] = 'display_data';\n",
              "          await google.colab.output.renderOutput(dataTable, element);\n",
              "          const docLink = document.createElement('div');\n",
              "          docLink.innerHTML = docLinkHtml;\n",
              "          element.appendChild(docLink);\n",
              "        }\n",
              "      </script>\n",
              "    </div>\n",
              "  </div>\n",
              "  "
            ]
          },
          "metadata": {},
          "execution_count": 3
        }
      ]
    },
    {
      "cell_type": "code",
      "source": [
        "dataset = dataset.sort_values(by=['time']).reset_index(drop=True).to_numpy()  # Sort and convert to numpy array"
      ],
      "metadata": {
        "id": "cLbQo3Oc_ttL"
      },
      "execution_count": 4,
      "outputs": []
    },
    {
      "cell_type": "code",
      "source": [
        "dataset"
      ],
      "metadata": {
        "colab": {
          "base_uri": "https://localhost:8080/"
        },
        "id": "-bPs2W95_yxd",
        "outputId": "642b8742-5349-4753-af39-93e3716b3e18"
      },
      "execution_count": 5,
      "outputs": [
        {
          "output_type": "execute_result",
          "data": {
            "text/plain": [
              "array([[0, Timestamp('2022-11-10 08:42:48.677000+0000', tz='UTC'),\n",
              "        3.744788320021226],\n",
              "       [1, Timestamp('2022-11-10 08:42:49.180000+0000', tz='UTC'),\n",
              "        7.637335232038103],\n",
              "       [2, Timestamp('2022-11-10 08:42:49.684000+0000', tz='UTC'),\n",
              "        0.032518271429091],\n",
              "       ...,\n",
              "       [2898, Timestamp('2022-11-10 09:07:22.063000+0000', tz='UTC'),\n",
              "        0.0009571159296299],\n",
              "       [2899, Timestamp('2022-11-10 09:07:22.566000+0000', tz='UTC'),\n",
              "        0.0011697160770632],\n",
              "       [2900, Timestamp('2022-11-10 09:07:23.070000+0000', tz='UTC'),\n",
              "        0.000885917794769]], dtype=object)"
            ]
          },
          "metadata": {},
          "execution_count": 5
        }
      ]
    },
    {
      "cell_type": "code",
      "source": [
        "# Split into 2 arrays\n",
        "values = [float(i[2]) for i in dataset]  # Flow values, in float\n",
        "values = np.array(values)\n",
        "\n",
        "dates = [i[1].to_pydatetime() for i in dataset]\n",
        "dates = np.array(dates)"
      ],
      "metadata": {
        "id": "_dA0Ns6Q_5t-"
      },
      "execution_count": 6,
      "outputs": []
    },
    {
      "cell_type": "code",
      "source": [
        "flow = np.diff(values).tolist()\n",
        "time = np.diff(dates).tolist()"
      ],
      "metadata": {
        "id": "uj5ojqH6C1qo"
      },
      "execution_count": 7,
      "outputs": []
    },
    {
      "cell_type": "code",
      "source": [
        "time= [float(i.total_seconds()) for i in time]  # Flow values, in float"
      ],
      "metadata": {
        "id": "v6DcvZ2pE2nS"
      },
      "execution_count": 10,
      "outputs": []
    },
    {
      "cell_type": "code",
      "source": [
        "slopes = np.divide(flow, time) # (flow[i+1] - flow[i]) / (time[i+1] - time[i])\n",
        "slopes = np.insert(slopes, 0, 0, axis=0) # Since we \"lose\" the first index, this one is 0, just for alignments"
      ],
      "metadata": {
        "id": "DQVg_banDBPv"
      },
      "execution_count": 12,
      "outputs": []
    },
    {
      "cell_type": "code",
      "source": [
        "# ROLLING WINDOW\n",
        "size = len(dataset)\n",
        "rolling_window = []\n",
        "rolling_window_indexes = []\n",
        "RW = []\n",
        "RWi = []\n",
        "window_size = 240  # Seconds\n",
        "\n",
        "\n",
        "# create the rollings windows\n",
        "for line in range(size):\n",
        "    limit_stamp = dates[line] + datetime.timedelta(seconds=window_size)\n",
        "    for subline in range(line, size, 1):\n",
        "        if dates[subline] <= limit_stamp:\n",
        "\n",
        "            rolling_window.append(slopes[subline])  # Values of the slopes\n",
        "            rolling_window_indexes.append(subline)  # Indexes of the respective values\n",
        "\n",
        "        else:\n",
        "\n",
        "            RW.append(rolling_window)\n",
        "            if line != size: # To prevent clearing the last rolling window\n",
        "                rolling_window = []\n",
        "\n",
        "            RWi.append(rolling_window_indexes)\n",
        "            if line != size:\n",
        "                rolling_window_indexes = []\n",
        "\n",
        "            break\n",
        "else:\n",
        "    # To get the last rolling window since it breaks before append\n",
        "    RW.append(rolling_window)\n",
        "    RWi.append(rolling_window_indexes)"
      ],
      "metadata": {
        "id": "Z1OFJpejJaXx"
      },
      "execution_count": 15,
      "outputs": []
    },
    {
      "cell_type": "code",
      "source": [
        "t = 0.02 # Threshold\n",
        "peaks = []\n",
        " \n",
        "for index, rollWin in enumerate(RW):\n",
        "    if rollWin[0] > t: # If the first value is greater of threshold\n",
        "        top = rollWin[0] # Sets as a possible peak\n",
        "        bottom = np.min(rollWin) # Finds the minimum of the peak\n",
        "\n",
        "        if bottom < -t: # If less than the negative threshold\n",
        "            bottomIndex = int(np.argmin(rollWin)) # Find it's index\n",
        "\n",
        "            for peak in range(0, bottomIndex, 1): # Appends all points between the first index of the rolling window until the bottomIndex\n",
        "                peaks.append(RWi[index][peak]) \n"
      ],
      "metadata": {
        "id": "eCAEolLaJn-f"
      },
      "execution_count": 46,
      "outputs": []
    },
    {
      "cell_type": "code",
      "source": [
        "for i in peaks:\n",
        "  print(dates[i], values[i])"
      ],
      "metadata": {
        "id": "cR6kUwg4PEMo",
        "outputId": "9c838d12-2823-4cf2-da2b-9423f6304a66",
        "colab": {
          "base_uri": "https://localhost:8080/"
        }
      },
      "execution_count": 81,
      "outputs": [
        {
          "output_type": "stream",
          "name": "stdout",
          "text": [
            "2022-11-10 08:42:49.180000+00:00 7.637335232038103\n",
            "2022-11-10 08:42:51.197000+00:00 0.0246115214857426\n",
            "2022-11-10 08:51:16.089000+00:00 0.0156844634844687\n",
            "2022-11-10 08:51:16.592000+00:00 0.0008812213141909\n",
            "2022-11-10 08:51:17.094000+00:00 0.0009718090915499\n",
            "2022-11-10 08:51:17.596000+00:00 0.0013262886699351\n",
            "2022-11-10 08:51:18.099000+00:00 0.0018400519529243\n",
            "2022-11-10 08:51:18.601000+00:00 0.0021098270562362\n",
            "2022-11-10 08:51:19.105000+00:00 0.0283364468278447\n",
            "2022-11-10 08:51:19.105000+00:00 0.0283364468278447\n",
            "2022-11-10 08:57:22.270000+00:00 0.0303294785025648\n"
          ]
        }
      ]
    },
    {
      "cell_type": "code",
      "source": [
        "from matplotlib.dates import DateFormatter\n",
        "\n",
        "date_form = DateFormatter(\"%H:%M:%S\")  # Xlabel for the plot_values\n",
        "\n",
        "def plot_values(dates=None, values=None, dates_indexes=None, values_indexes=None):\n",
        "    \"\"\"\n",
        "    This function is to plot the water flow accordingly to the timestamps of measuring\n",
        "    :param dates: array-like of pydatetimes\n",
        "    :param values: array-like of floats\n",
        "    :param dates_indexes: peak filtered dates\n",
        "    :param values_indexes: peak filtered values\n",
        "    :return:\n",
        "    \"\"\"\n",
        "\n",
        "    global dataset\n",
        "\n",
        "    plt.figure(figsize=(45, 10))\n",
        "\n",
        "    plt.plot(dates, values, 'c', label=\"Power\")  # Plotting of all values\n",
        "    plt.plot(dates_indexes, values_indexes, \"xr\", label=\"peaks\")  # Plotting of all peaks\n",
        "\n",
        "    plt.xlabel(\"Timestamp of measure\")\n",
        "    plt.ylabel(\"Power\")\n",
        "    plt.legend()\n",
        "    plt.title(\"Power  over time\")\n",
        "    plt.show()\n",
        "\n",
        "# PLOTTING\n",
        "plot_values(dates, values, dates[peaks], values[peaks]) # The real dataset and the peaks"
      ],
      "metadata": {
        "colab": {
          "base_uri": "https://localhost:8080/",
          "height": 429
        },
        "id": "KotyXGCXJ43b",
        "outputId": "ea8fe013-8468-44d9-b128-10d08c0fd703"
      },
      "execution_count": 76,
      "outputs": [
        {
          "output_type": "display_data",
          "data": {
            "text/plain": [
              "<Figure size 3240x720 with 1 Axes>"
            ],
            "image/png": "[encoded data removed]"
          },
          "metadata": {
            "needs_background": "light"
          }
        }
      ]
    },
    {
      "cell_type": "code",
      "source": [
        "def plot_slopes():\n",
        "    \"\"\"\n",
        "        This function is to plot the slope that the water flow creates\n",
        "    \"\"\"\n",
        "    plt.figure(figsize=(30, 10))\n",
        "\n",
        "    plt.plot(slopes, label=\"slopes\")\n",
        "    plt.hlines(t, 0, len(values), linestyles=\"dashed\", label=\"Threshold\")\n",
        "    plt.hlines(-t, 0, len(values), linestyles=\"dashed\")\n",
        "    plt.plot(peaks, slopes[peaks], \"^r\", label=\"Detected peaks\")\n",
        "\n",
        "    plt.legend()\n",
        "    plt.title(\"The slopes of the flow measures\")\n",
        "    plt.show()\n",
        "\n",
        "plot_slopes() # The slopes and the peaks\n"
      ],
      "metadata": {
        "colab": {
          "base_uri": "https://localhost:8080/",
          "height": 607
        },
        "id": "D3ijKdf7NWxM",
        "outputId": "64ec248e-5df7-4475-bd70-fd4341153614"
      },
      "execution_count": 78,
      "outputs": [
        {
          "output_type": "display_data",
          "data": {
            "text/plain": [
              "<Figure size 2160x720 with 1 Axes>"
            ],
            "image/png": "[encoded data removed]"
          },
          "metadata": {
            "needs_background": "light"
          }
        }
      ]
    }
  ]
}